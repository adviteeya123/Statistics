{
 "cells": [
  {
   "cell_type": "markdown",
   "metadata": {},
   "source": [
    "#asdfasd\n",
    "##"
   ]
  },
  {
   "cell_type": "markdown",
   "metadata": {},
   "source": [
    "### Central Limit Theorem \n",
    "### Inferential Statistics\n",
    "- z test ( z table )\n",
    "- t test  ( t test )\n",
    "- z test proportion population \n",
    "\n"
   ]
  },
  {
   "cell_type": "markdown",
   "metadata": {},
   "source": []
  }
 ],
 "metadata": {
  "language_info": {
   "name": "python"
  },
  "orig_nbformat": 4
 },
 "nbformat": 4,
 "nbformat_minor": 2
}
